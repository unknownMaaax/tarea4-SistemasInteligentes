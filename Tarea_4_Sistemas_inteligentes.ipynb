{
  "nbformat": 4,
  "nbformat_minor": 0,
  "metadata": {
    "colab": {
      "name": "Tarea 4 - Sistemas inteligentes",
      "provenance": [],
      "collapsed_sections": [],
      "include_colab_link": true
    },
    "kernelspec": {
      "name": "python3",
      "display_name": "Python 3"
    },
    "language_info": {
      "name": "python"
    }
  },
  "cells": [
    {
      "cell_type": "markdown",
      "metadata": {
        "id": "view-in-github",
        "colab_type": "text"
      },
      "source": [
        "<a href=\"https://colab.research.google.com/github/unknownMaaax/tarea4-SistemasInteligentes/blob/main/Tarea_4_Sistemas_inteligentes.ipynb\" target=\"_parent\"><img src=\"https://colab.research.google.com/assets/colab-badge.svg\" alt=\"Open In Colab\"/></a>"
      ]
    },
    {
      "cell_type": "markdown",
      "metadata": {
        "id": "2FYrYXMYcLuA"
      },
      "source": [
        "# ☕ **Tarea 4: Predicción de retención de clientes**\n",
        "\n"
      ]
    },
    {
      "cell_type": "markdown",
      "metadata": {
        "id": "PgAt630DdGXX"
      },
      "source": [
        "---\n",
        "## 🧐 **Introducción**\n",
        "En este proyecto, se abordara el problema de retención de clientes usando redes neuronales.\n",
        "\n",
        "\n"
      ]
    },
    {
      "cell_type": "markdown",
      "metadata": {
        "id": "8A7H8lhtdU4t"
      },
      "source": [
        "---\n",
        "## 🚀 **Integrantes**\n",
        "El proyecto es desarrollado por los siguientes integrantes:\n",
        "\n",
        "* 👤 Javier Almarza.\n",
        "* 👤 Gonzalo Cañas.\n",
        "* 👤 Nicolas Cruz.\n",
        "* 👤 Vicente Salas."
      ]
    },
    {
      "cell_type": "markdown",
      "metadata": {
        "id": "HcRYe4nQe8p8"
      },
      "source": [
        "---\n",
        "## 🪛 **Dependencias y requerimientos**\n",
        "Para la correcta ejecución del proyecto, es necesario contar con las siguientes dependencias:\n",
        "\n",
        "* 🐍 *Python versión >= 3.6.x*.\n",
        "* 🛢️ *Numpy*.\n",
        "* 🎰 *Matplotlib*.\n",
        "* 🐼 *Pandas*.\n",
        "* 🎲 *Scikit-learn*."
      ]
    },
    {
      "cell_type": "markdown",
      "metadata": {
        "id": "8TA4yFjSBxLU"
      },
      "source": [
        "Para instalar las dependencias es necesario ejecutar el siguiente comando:"
      ]
    },
    {
      "cell_type": "code",
      "metadata": {
        "id": "Pw043KfdBt_5"
      },
      "source": [
        "!pip install numpy matplotlib pandas sklearn"
      ],
      "execution_count": null,
      "outputs": []
    },
    {
      "cell_type": "markdown",
      "metadata": {
        "id": "d9BorH13Ct9i"
      },
      "source": [
        "Para corroborar la correcta instalación de las dependencias, es posible ejecutar el siguiente comando:"
      ]
    },
    {
      "cell_type": "code",
      "metadata": {
        "id": "8hA8DtxXCttL"
      },
      "source": [
        "!pip freeze"
      ],
      "execution_count": null,
      "outputs": []
    },
    {
      "cell_type": "code",
      "metadata": {
        "id": "2z2NkcXFsOjQ"
      },
      "source": [
        "# Dependencias.\n",
        "import numpy as np;\n",
        "import matplotlib.pyplot as plt;\n",
        "import pandas as pd;\n",
        "import sklearn as sk;"
      ],
      "execution_count": null,
      "outputs": []
    },
    {
      "cell_type": "markdown",
      "metadata": {
        "id": "fNxCM3j10O6a"
      },
      "source": [
        "---\n",
        "## 💾 **Base de datos**"
      ]
    },
    {
      "cell_type": "markdown",
      "metadata": {
        "id": "GNce-_cz0jA0"
      },
      "source": [
        "La base de datos puede ser descargada accediendo al siguiente enlace: [Churn_Modelling.csv](https://drive.google.com/file/d/1fcVNUx_oqYu3RMieohyXzvYVZJhuxhUK/view) \n",
        "\n",
        "La base de datos consiste en 10000 clientes con 14 variables originales donde la variable Exited (Salida) es binaria e indica si la persona se retuvo o no como cliente dentro de un plazo\n",
        "prefijado. Dentro de la base de datos utilizada, se pueden encontrar los siguientes atributos de cada cliente:\n",
        "\n",
        "1. RowNumber (**Numero de fila, desde 1 a 10001**).\n",
        "  * Tipo: **INT**.\n",
        "  * Rango: **\\[1, 10001\\]**.\n",
        "\n",
        "2. CustomerId (**Identificador del cliente**).\n",
        "  * Tipo: **INT**.\n",
        "  * Largo: **8 digitos**.\n",
        "\n",
        "3. Surname (**Apellido del cliente**).\n",
        "  * Tipo: **STRING**.\n",
        "\n",
        "4. CreditScore (**Puntaje de credito**).\n",
        "  * Tipo: **INT**.\n",
        "  * Largo: **8 digitos**.\n",
        "\n",
        "5. Geography (**País del cliente**).\n",
        "  * Tipo: **STRING**.\n",
        "  * Numeración: **\\[Spain, France, Germany\\]**.\n",
        "\n",
        "6. Gender (**Género del cliente**).\n",
        "  * Tipo: **STRING**.\n",
        "  * Binario: **Male | Female**.\n",
        "\n",
        "7. Age (**Edad del cliente**).\n",
        "  * Tipo: **INT**.\n",
        "  * Condición: **NO negativo**.\n",
        "\n",
        "8.\tTenure (**Posesiones del cliente**).\n",
        "  * Tipo: **INT**.\n",
        "  \n",
        "\n",
        "9. Balance (**Balance del cliente**).\n",
        "  * Tipo: **FLOAT**\n",
        "  * Valor minimo: **0**.\n",
        "\n",
        "10. NumOfProducts (**Numero de productos**).\n",
        "  * Tipo: **INT**\n",
        "\n",
        "11. HasCrCard (**¿Tiene tarjeta de crédito?**).\n",
        "  * Tipo: **INT**\n",
        "  * Binario: **1 | 0**\n",
        "  * Representación: **Booleana**\n",
        "\n",
        "12. IsActiveMember (**¿Es un cliente activo?**).\n",
        "  * Tipo: **INT**\n",
        "  * Binario: **1 | 0**\n",
        "  * Representación: **Booleana**\n",
        "\n",
        "13. EstimatedSalary (**Sueldo estimado**).\n",
        "  * Tipo: **FLOAT**\n",
        "  * Valor minimo: **0**\n",
        "\n",
        "14. Exited (**¿Se retuvo al cliente?**).\n",
        "  * Tipo: **INT**\n",
        "  * Binario: **1 | 0**\n",
        "  * Representación: **Booleana**\n"
      ]
    },
    {
      "cell_type": "markdown",
      "metadata": {
        "id": "qT2KEPGW63c1"
      },
      "source": [
        "**\\[No estoy seguro\\]** Pero, para acceder a la base de datos es necesario subirlo a Google Drive."
      ]
    },
    {
      "cell_type": "code",
      "metadata": {
        "id": "4sYAWlMkF2Bk",
        "colab": {
          "base_uri": "https://localhost:8080/"
        },
        "outputId": "588a834d-f9f2-48f3-d098-07d8b9160685"
      },
      "source": [
        "from google.colab import drive;\n",
        "\n",
        "drive.mount('/content/drive');"
      ],
      "execution_count": null,
      "outputs": [
        {
          "output_type": "stream",
          "name": "stdout",
          "text": [
            "Mounted at /content/drive\n"
          ]
        }
      ]
    },
    {
      "cell_type": "markdown",
      "metadata": {
        "id": "ymkTRPla8BQr"
      },
      "source": [
        "---\n",
        "## 💽 **Implementación**"
      ]
    },
    {
      "cell_type": "markdown",
      "metadata": {
        "id": "g7gFGLvFAsO1"
      },
      "source": [
        "### 🧵 **Disponibilidad de la base de datos**"
      ]
    },
    {
      "cell_type": "markdown",
      "metadata": {
        "id": "CcffBAei72i2"
      },
      "source": [
        "Como primer procedimiento es necesario cargar el conjunto de datos."
      ]
    },
    {
      "cell_type": "code",
      "metadata": {
        "id": "_p10WmmJsys4",
        "colab": {
          "base_uri": "https://localhost:8080/"
        },
        "outputId": "f65d8900-e40e-4af9-f751-d99e846197bc"
      },
      "source": [
        "# Cargando la base de datos.\n",
        "data_set = pd.read_csv('drive/MyDrive/Churn_Modelling.csv');\n",
        "print(data_set.head());"
      ],
      "execution_count": null,
      "outputs": [
        {
          "output_type": "stream",
          "name": "stdout",
          "text": [
            "   RowNumber  CustomerId   Surname  ...  IsActiveMember EstimatedSalary Exited\n",
            "0          1    15634602  Hargrave  ...               1       101348.88      1\n",
            "1          2    15647311      Hill  ...               1       112542.58      0\n",
            "2          3    15619304      Onio  ...               0       113931.57      1\n",
            "3          4    15701354      Boni  ...               0        93826.63      0\n",
            "4          5    15737888  Mitchell  ...               1        79084.10      0\n",
            "\n",
            "[5 rows x 14 columns]\n"
          ]
        }
      ]
    },
    {
      "cell_type": "markdown",
      "metadata": {
        "id": "Du20gawq0nHH"
      },
      "source": [
        "Filtración de caracteristicas socioeconomicas de cada uno de los clientes."
      ]
    },
    {
      "cell_type": "code",
      "metadata": {
        "colab": {
          "base_uri": "https://localhost:8080/"
        },
        "id": "WLeJILaP0xt2",
        "outputId": "22b3fb56-0cf8-410e-c958-a69cb2de9ffe"
      },
      "source": [
        "# Filtración de datos.\n",
        "eje_x = data_set.iloc[:, 3:13].values;\n",
        "eje_y = data_set.iloc[:, 13]. values;\n",
        "\n",
        "print(eje_x); # Columnas [CreditScore hasta EstimatedSalary].\n",
        "print(eje_y); # Columna [Exited].\n",
        "\n",
        "print(eje_x.shape) # 10.000 Filas x 10 columnas."
      ],
      "execution_count": null,
      "outputs": [
        {
          "output_type": "stream",
          "name": "stdout",
          "text": [
            "[[619 'France' 'Female' ... 1 1 101348.88]\n",
            " [608 'Spain' 'Female' ... 0 1 112542.58]\n",
            " [502 'France' 'Female' ... 1 0 113931.57]\n",
            " ...\n",
            " [709 'France' 'Female' ... 0 1 42085.58]\n",
            " [772 'Germany' 'Male' ... 1 0 92888.52]\n",
            " [792 'France' 'Female' ... 1 0 38190.78]]\n",
            "[1 0 1 ... 1 1 0]\n",
            "<class 'numpy.ndarray'>\n",
            "<class 'numpy.ndarray'>\n",
            "(10000, 10)\n"
          ]
        }
      ]
    },
    {
      "cell_type": "markdown",
      "metadata": {
        "id": "PTcZujM4ARSe"
      },
      "source": [
        "### 🧶 **Codificación de atributos**"
      ]
    },
    {
      "cell_type": "markdown",
      "metadata": {
        "id": "QsW1np6y2MlQ"
      },
      "source": [
        "Transformación de algunos datos de tipo **String** a **Int**. A traves del uso de LabelEncoder se define un numero identificador a cada uno de los parametros presentes en la columna. Este proceso se realiza para el caso de locación geografica y genero del cliente."
      ]
    },
    {
      "cell_type": "code",
      "metadata": {
        "colab": {
          "base_uri": "https://localhost:8080/"
        },
        "id": "FlMpvBqz2Vjm",
        "outputId": "4b30c735-0033-49d3-8ff7-a20b67e53a03"
      },
      "source": [
        "# Dependencias.\n",
        "from sklearn.preprocessing import LabelEncoder;\n",
        "\n",
        "# Transformando los datos correspondientes a la locación del cliente.\n",
        "codificacion_geografica = LabelEncoder();\n",
        "eje_x[:, 1] = codificacion_geografica.fit_transform(eje_x[:, 1]);\n",
        "\n",
        "# Transformando los datos correspondientes al genero del cliente.\n",
        "codificacion_genero = LabelEncoder();\n",
        "eje_x[:, 2] = codificacion_genero.fit_transform(eje_x[:, 2]);\n",
        "\n",
        "print(eje_x)\n",
        "print(eje_x.shape) # Cada uno de los paises se volvio un digito, ocurre lo mismo para los datos de genero."
      ],
      "execution_count": null,
      "outputs": [
        {
          "output_type": "stream",
          "name": "stdout",
          "text": [
            "[[619 0 0 ... 1 1 101348.88]\n",
            " [608 2 0 ... 0 1 112542.58]\n",
            " [502 0 0 ... 1 0 113931.57]\n",
            " ...\n",
            " [709 0 0 ... 0 1 42085.58]\n",
            " [772 1 1 ... 1 0 92888.52]\n",
            " [792 0 0 ... 1 0 38190.78]]\n",
            "(10000, 10)\n"
          ]
        }
      ]
    },
    {
      "cell_type": "markdown",
      "metadata": {
        "id": "7kIziEGpADjj"
      },
      "source": [
        "### 🪚 **División de la base de datos.**"
      ]
    },
    {
      "cell_type": "markdown",
      "metadata": {
        "id": "VxuLYdaM6yxv"
      },
      "source": [
        "División de los datos de entrenamiento y testeo. Se asigna un 25% de los datos al enfoque de testeo **(test_size = 0.25)**. Se define el **random_estate** en 0 para que se defina un unico caso de testeo a la hora de ejecutar.\n"
      ]
    },
    {
      "cell_type": "code",
      "metadata": {
        "colab": {
          "base_uri": "https://localhost:8080/"
        },
        "id": "9fhfbOIR7J9n",
        "outputId": "96dc97ed-06a4-43c4-fc41-661cfb17dcc2"
      },
      "source": [
        "from sklearn.model_selection import train_test_split\n",
        "\n",
        "# Separando el Data Set en 25% para realizar pruebas y 75% para entrenamiento.\n",
        "eje_x_entrenamiento, eje_x_prueba, eje_y_entrenamiento, eje_y_prueba = train_test_split(eje_x, eje_y, test_size=0.25, random_state=0) \n",
        "\n",
        "# Mostrando los primeros 5 clientes del conjunto de entrenamineto.\n",
        "print(f\"[*] Conjunto de entrenamiento ({eje_x_entrenamiento.shape[0]} filas, {eje_x_entrenamiento.shape[1]} columnas):\");\n",
        "\n",
        "i:int = 1;\n",
        "for cliente in eje_x_entrenamiento[:5]:\n",
        "  print(f\"[{i}] Cliente: {cliente}\");\n",
        "  i += 1;\n",
        "\n",
        "\n",
        "# Mostrando los primeros 5 clientes del conjunto de prueba.\n",
        "print(f\"\\n[*] Conjunto de prueba ({eje_x_prueba.shape[0]} filas, {eje_x_prueba.shape[1]} columnas):\");\n",
        "\n",
        "i:int = 1;\n",
        "for cliente in eje_x_prueba[:5]:\n",
        "  print(f\"[{i}] Cliente: {cliente}\");\n",
        "  i += 1;\n"
      ],
      "execution_count": null,
      "outputs": [
        {
          "output_type": "stream",
          "name": "stdout",
          "text": [
            "[*] Conjunto de entrenamiento (7500 filas, 10 columnas):\n",
            "[1] Cliente: [579 1 0 39 5 117833.3 3 0 0 5831.0]\n",
            "[2] Cliente: [750 0 0 32 5 0.0 2 1 0 95611.47]\n",
            "[3] Cliente: [729 2 0 34 9 53299.96 2 1 1 42855.97]\n",
            "[4] Cliente: [689 2 1 38 5 75075.14 1 1 1 8651.92]\n",
            "[5] Cliente: [605 0 1 52 7 0.0 2 1 1 173952.5]\n",
            "\n",
            "[*] Conjunto de prueba (2500 filas, 10 columnas):\n",
            "[1] Cliente: [597 1 0 35 8 131101.04 1 1 1 192852.67]\n",
            "[2] Cliente: [523 0 0 40 2 102967.41 1 1 0 128702.1]\n",
            "[3] Cliente: [706 2 0 42 8 95386.82 1 1 1 75732.25]\n",
            "[4] Cliente: [788 0 1 32 4 112079.58 1 0 0 89368.59]\n",
            "[5] Cliente: [706 1 1 38 5 163034.82 2 1 1 135662.17]\n"
          ]
        }
      ]
    },
    {
      "cell_type": "markdown",
      "metadata": {
        "id": "wz_T4q2cFb3u"
      },
      "source": [
        ""
      ]
    },
    {
      "cell_type": "markdown",
      "metadata": {
        "id": "bC8RVdAs_9Tv"
      },
      "source": [
        "### 🧮 **Normalización ℤ**"
      ]
    },
    {
      "cell_type": "markdown",
      "metadata": {
        "id": "2eE0VXAMFaq0"
      },
      "source": [
        "Se Normalizan cada unos de los valores dentro de los conjuntos de entrenamiento y prueba."
      ]
    },
    {
      "cell_type": "code",
      "metadata": {
        "colab": {
          "base_uri": "https://localhost:8080/"
        },
        "id": "U9U30VtYFdWz",
        "outputId": "b2087d68-a8ce-4c0f-9038-c406b30e6fe2"
      },
      "source": [
        "from sklearn.preprocessing import StandardScaler;\n",
        "\n",
        "escalador_estandar = StandardScaler(); # Normalización.\n",
        "\n",
        "eje_x_entrenamiento = escalador_estandar.fit_transform(eje_x_entrenamiento);\n",
        "eje_x_prueba = escalador_estandar.transform(eje_x_prueba);\n",
        "\n",
        "\n",
        "print(f\"[*] Datos de entrenamiento ({eje_x_entrenamiento.shape[0]} filas, {eje_x_entrenamiento.shape[1]} columnas).\")\n",
        "print(eje_x_entrenamiento[:5])\n",
        "\n",
        "print(f\"\\n[*] Datos de pruebas ({eje_x_prueba.shape[0]} filas, {eje_x_prueba.shape[1]} columnas).\")\n",
        "print(eje_x_prueba[:5])\n",
        "\n",
        "\n"
      ],
      "execution_count": null,
      "outputs": [
        {
          "output_type": "stream",
          "name": "stdout",
          "text": [
            "[*] Datos de entrenamiento (7500 filas, 10 columnas).\n",
            "[[-0.73550706  0.31266104 -1.08726059  0.01526571  0.00886037  0.67316003\n",
            "   2.53503394 -1.55362351 -1.03446007 -1.64080994]\n",
            " [ 1.02442719 -0.89235324 -1.08726059 -0.65260917  0.00886037 -1.20772417\n",
            "   0.80424154  0.64365658 -1.03446007 -0.07927152]\n",
            " [ 0.80829492  1.51767532 -1.08726059 -0.46178778  1.39329338 -0.35693706\n",
            "   0.80424154  0.64365658  0.96668786 -0.99684012]\n",
            " [ 0.39661439  1.51767532  0.91974271 -0.08014499  0.00886037 -0.00935627\n",
            "  -0.92655087  0.64365658  0.96668786 -1.5917461 ]\n",
            " [-0.46791471 -0.89235324  0.91974271  1.25560478  0.70107688 -1.20772417\n",
            "   0.80424154  0.64365658  0.96668786  1.28330241]]\n",
            "\n",
            "[*] Datos de pruebas (2500 filas, 10 columnas).\n",
            "[[-0.55025082  0.31266104 -1.08726059 -0.36637708  1.04718513  0.88494297\n",
            "  -0.92655087  0.64365658  0.96668786  1.61203027]\n",
            " [-1.31185979 -0.89235324 -1.08726059  0.11067641 -1.02946438  0.43586703\n",
            "  -0.92655087  0.64365658 -1.03446007  0.49626891]\n",
            " [ 0.57157862  1.51767532 -1.08726059  0.3014978   1.04718513  0.31486378\n",
            "  -0.92655087  0.64365658  0.96668786 -0.42502785]\n",
            " [ 1.41552369 -0.89235324  0.91974271 -0.65260917 -0.33724788  0.58131773\n",
            "  -0.92655087 -1.55362351 -1.03446007 -0.18785301]\n",
            " [ 0.57157862  0.31266104  0.91974271 -0.08014499  0.00886037  1.39467784\n",
            "   0.80424154  0.64365658  0.96668786  0.61732437]]\n"
          ]
        }
      ]
    },
    {
      "cell_type": "markdown",
      "metadata": {
        "id": "KHAH4NwI2u9O"
      },
      "source": [
        "---\n",
        "## 🤓 **Referencias**"
      ]
    },
    {
      "cell_type": "markdown",
      "metadata": {
        "id": "u5vB_mkN27VG"
      },
      "source": [
        "Herramientas de Scikit-Learn: \n",
        "* [LabelEncoder](https://scikit-learn.org/stable/modules/generated/sklearn.preprocessing.LabelEncoder.html)"
      ]
    }
  ]
}